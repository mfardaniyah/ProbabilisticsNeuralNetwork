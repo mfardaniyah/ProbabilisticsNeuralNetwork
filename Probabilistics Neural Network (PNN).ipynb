{
 "cells": [
  {
   "cell_type": "markdown",
   "id": "8a6178f4",
   "metadata": {},
   "source": [
    "# Probabilistic Neural Network pada Klasifikasi Berat Bayi Lahir Pada Kasus Pasien Ibu Melahirkan\n",
    "\n",
    "Klasifikasi yang dibuat yaitu apakah bayi yang lahir memiliki berat badan lahir normal (BBL >= 2500gr) atau memiliki berat badan lahir rendah taua BBLR (BBL < 2500gr). \n",
    "Adapun faktor-faktor yang memengaruhi ibu melahirkan bayi BBLR yaitu diantaranya:\n",
    "- faktor maternal/ faktor ibu (usia ibu, tekanan darah ibu, kadar hemoglobin, berat badan, lama kehamilan/lama gestasi)\n",
    "- faktor janin\n",
    "- faktor lingkungan. "
   ]
  },
  {
   "cell_type": "markdown",
   "id": "f994e75f",
   "metadata": {},
   "source": [
    "Klasifikasi tersebut akan menggunakan metode probabilistic neural network (**PNN**). PNN adalah suatu algoritma yang menggunakan fungsi peluang. PNN sering digunakan dalam klasifikasi karena dapat memetakan setiap pola input ke jumlah klasifikasi yang optimal, lebih cepat, dan lebih akurat dibandingkan model jaringan saraf lainnya (Yunanda dkk, 2019). Proses klasifikasi dilakukan hanya dalam satu tahap sehingga prosesnya sedikit lebih cepat dibandingkan algoritma Neural Network lainnya. Dalam Probabilistic Neural Network terdapat tiga lapisan yaitu lapisan input, lapisan pola, dan lapisan penjumlahan (Yi dkk, 2016)."
   ]
  },
  {
   "cell_type": "markdown",
   "id": "b13e0789",
   "metadata": {},
   "source": [
    "## Tahapan Dalam Melakukan Klasifikasi\n",
    "\n",
    "1. Input data berat bayi lahir sebagai variabel respon sedangkan sisanya dimasukkan sebagai variabel prediktor. \n",
    "2. Melakukan persiapan data yaitu data cleaning dan data transformation\n",
    "3. Membagi data menjadi dua bagian yaitu data training dan data testing dengan menggunakan metode holdout.\n",
    "4. Menjalankan algoritma Probabilistic Neural Network untuk data training dan data testing.  \n",
    "5. Menghitung nilai akurasi dan tingkat kesalahan prediksi dari data training dan testing\n",
    "6. Ulangi langkah 1 sampai 6 sehingga diperoleh nilai akurasi yang tinggi. \n",
    "7. Membuat GUI\n"
   ]
  },
  {
   "cell_type": "markdown",
   "id": "8ef0935a",
   "metadata": {},
   "source": [
    "## 1. Melakukan instal packages NeuPy dan Theano"
   ]
  },
  {
   "cell_type": "markdown",
   "id": "bc5b7121",
   "metadata": {},
   "source": [
    "### NeuPy\n",
    "\n",
    "NeuPy (Neural Networks in Python) adalah library di python untuk membuat prototipe dan membangun jaringan saraf. NeuPy menggunakan Tensorflow sebagai backend komputasi untuk model pembelajaran mendalam.\n",
    "algoritma PNN terdapat pada packages Neupy, maka dari itu kita harus menginstall Neupy terlebih dahulu. Packages Neupy ini hanya bisa diinstall menggunakan pyhthon versi terbaru."
   ]
  },
  {
   "cell_type": "code",
   "execution_count": 11,
   "id": "21f7b5d8",
   "metadata": {},
   "outputs": [
    {
     "name": "stdout",
     "output_type": "stream",
     "text": [
      "Requirement already satisfied: neupy in c:\\users\\dik\\anaconda3\\lib\\site-packages (0.6.5)Note: you may need to restart the kernel to use updated packages.\n",
      "Requirement already satisfied: matplotlib>=1.5.1 in c:\\users\\dik\\anaconda3\\lib\\site-packages (from neupy) (3.3.4)\n",
      "Requirement already satisfied: tableprint==0.7.1 in c:\\users\\dik\\anaconda3\\lib\\site-packages (from neupy) (0.7.1)\n",
      "Requirement already satisfied: progressbar2==3.34.3 in c:\\users\\dik\\anaconda3\\lib\\site-packages (from neupy) (3.34.3)\n",
      "Requirement already satisfied: numpy>=1.9.0 in c:\\users\\dik\\anaconda3\\lib\\site-packages (from neupy) (1.20.1)\n",
      "Requirement already satisfied: graphviz==0.5.1 in c:\\users\\dik\\anaconda3\\lib\\site-packages (from neupy) (0.5.1)\n",
      "Requirement already satisfied: scipy>=0.19.0 in c:\\users\\dik\\anaconda3\\lib\\site-packages (from neupy) (1.6.2)\n",
      "Requirement already satisfied: Theano==1.0.0 in c:\\users\\dik\\anaconda3\\lib\\site-packages (from neupy) (1.0.0)\n",
      "Requirement already satisfied: python-utils>=2.1.0 in c:\\users\\dik\\anaconda3\\lib\\site-packages (from progressbar2==3.34.3->neupy) (2.5.6)\n",
      "Requirement already satisfied: six in c:\\users\\dik\\anaconda3\\lib\\site-packages (from tableprint==0.7.1->neupy) (1.15.0)\n",
      "Requirement already satisfied: future in c:\\users\\dik\\anaconda3\\lib\\site-packages (from tableprint==0.7.1->neupy) (0.18.2)\n",
      "Requirement already satisfied: wcwidth in c:\\users\\dik\\anaconda3\\lib\\site-packages (from tableprint==0.7.1->neupy) (0.2.5)\n",
      "Requirement already satisfied: pillow>=6.2.0 in c:\\users\\dik\\anaconda3\\lib\\site-packages (from matplotlib>=1.5.1->neupy) (8.2.0)\n",
      "Requirement already satisfied: kiwisolver>=1.0.1 in c:\\users\\dik\\anaconda3\\lib\\site-packages (from matplotlib>=1.5.1->neupy) (1.3.1)\n",
      "Requirement already satisfied: cycler>=0.10 in c:\\users\\dik\\anaconda3\\lib\\site-packages (from matplotlib>=1.5.1->neupy) (0.10.0)\n",
      "Requirement already satisfied: python-dateutil>=2.1 in c:\\users\\dik\\anaconda3\\lib\\site-packages (from matplotlib>=1.5.1->neupy) (2.8.1)\n",
      "Requirement already satisfied: pyparsing!=2.0.4,!=2.1.2,!=2.1.6,>=2.0.3 in c:\\users\\dik\\anaconda3\\lib\\site-packages (from matplotlib>=1.5.1->neupy) (2.4.7)\n",
      "\n"
     ]
    }
   ],
   "source": [
    "pip install neupy"
   ]
  },
  {
   "cell_type": "markdown",
   "id": "980f6821",
   "metadata": {},
   "source": [
    "### Theano \n",
    "\n",
    "Theano adalah library di Python yang memungkinkan Anda untuk mendefinisikan, mengoptimalkan, dan mengevaluasi ekspresi matematika yang melibatkan array multi-dimensi secara efisien.\n",
    "Karena dalam packages Neupy menggunakan juga Theano, maka kita harus menginstall dulu Theano agar tidak terjadi error"
   ]
  },
  {
   "cell_type": "code",
   "execution_count": 12,
   "id": "fc598d11",
   "metadata": {},
   "outputs": [
    {
     "name": "stdout",
     "output_type": "stream",
     "text": [
      "Requirement already satisfied: theano in c:\\users\\dik\\anaconda3\\lib\\site-packages (1.0.0)Note: you may need to restart the kernel to use updated packages.\n",
      "\n",
      "Requirement already satisfied: six>=1.9.0 in c:\\users\\dik\\anaconda3\\lib\\site-packages (from theano) (1.15.0)\n",
      "Requirement already satisfied: numpy>=1.9.1 in c:\\users\\dik\\anaconda3\\lib\\site-packages (from theano) (1.20.1)\n",
      "Requirement already satisfied: scipy>=0.14 in c:\\users\\dik\\anaconda3\\lib\\site-packages (from theano) (1.6.2)\n"
     ]
    }
   ],
   "source": [
    "pip install theano"
   ]
  },
  {
   "cell_type": "markdown",
   "id": "f612d4ea",
   "metadata": {},
   "source": [
    "## 2. Memanggil module yang akan digunakan \n",
    "\n",
    "### Pandas \n",
    "Pandas adalah sebuah library di Python yang berlisensi BSD dan open source yang menyediakan struktur data dan analisis data yang mudah digunakan. Pandas biasa digunakan untuk membuat tabel, mengubah dimensi data, mengecek data, dan lain sebagainya. Struktur data dasar pada Pandas dinamakan DataFrame, yang memudahkan kita untuk membaca sebuah file dengan banyak jenis format seperti file .txt, .csv, dan .tsv. Fitur ini akan menjadikannya table dan juga dapat mengolah suatu data dengan menggunakan operasi seperti join, distinct, group by, agregasi, dan teknik lainnya yang terdapat pada SQL.\n",
    "\n",
    "\n",
    "### Algorithms \n",
    "Module ini digunakan untuk menjalankan model dari PNN. Proses inisialisasi sedikit berbeda untuk networks dengan arsitektur tetap dan dapat dibangun. Networks dengan arsitektur tetap memiliki struktur yang telah ditentukan sebelumnya dan kita hanya perlu menentukan parameter khusus algoritme. Secara eksplisit menentukan nama argumen selama inisialisasi. NeuPy tidak memiliki urutan yang ditentukan untuk argumen dan itu akan menimbulkan pengecualian ketika tidak ada nama yang terkait dengan setiap argumen.\n",
    "\n",
    "### sklearn \n",
    "Secara umum, masalah pembelajaran mempertimbangkan satu set n sampel data dan kemudian mencoba memprediksi sifat data yang tidak diketahui. Jika setiap sampel lebih dari satu angka dan, misalnya, entri multidimensi (alias data multivariat), dikatakan memiliki beberapa atribut atau fitur. scikit-learn hadir dengan beberapa kumpulan data standar, misalnya kumpulan data iris dan angka untuk klasifikasi dan kumpulan data diabetes untuk regresi.\n",
    "\n",
    "### train_test_split\n",
    "train_test_split adalah fungsi dalam pemilihan model Sklearn untuk membagi array data menjadi dua subset: untuk data pelatihan dan untuk data pengujian. Dengan fungsi ini, pengguna tidak perlu membagi dataset secara manual. Secara default, Sklearn train_test_split akan membuat partisi acak untuk dua himpunan bagian. Namun, Anda juga dapat menentukan status acak untuk operasi tersebut.\n",
    "\n",
    "### metrics\n",
    "Modul sklearn.metrics mengimplementasikan fungsi yang menilai kesalahan prediksi untuk tujuan tertentu. Metrics ini dirinci di bagian metrik Klasifikasi, metrik peringkat Multilabel, metrik Regresi, dan metrik Pengelompokan.."
   ]
  },
  {
   "cell_type": "code",
   "execution_count": 24,
   "id": "f420a558",
   "metadata": {},
   "outputs": [
    {
     "name": "stderr",
     "output_type": "stream",
     "text": [
      "WARNING (theano.configdefaults): g++ not available, if using conda: `conda install m2w64-toolchain`\n",
      "C:\\Users\\dik\\anaconda3\\lib\\site-packages\\theano\\configdefaults.py:560: UserWarning: DeprecationWarning: there is no c++ compiler.This is deprecated and with Theano 0.11 a c++ compiler will be mandatory\n",
      "  warnings.warn(\"DeprecationWarning: there is no c++ compiler.\"\n",
      "WARNING (theano.configdefaults): g++ not detected ! Theano will be unable to execute optimized C-implementations (for both CPU and GPU) and will default to Python implementations. Performance will be severely degraded. To remove this warning, set Theano flags cxx to an empty string.\n",
      "WARNING (theano.tensor.blas): Using NumPy C-API based implementation for BLAS functions.\n"
     ]
    }
   ],
   "source": [
    "import pandas as pd\n",
    "from neupy import algorithms\n",
    "from sklearn.model_selection import train_test_split\n",
    "from sklearn import metrics"
   ]
  },
  {
   "cell_type": "markdown",
   "id": "4503769a",
   "metadata": {},
   "source": [
    "## 3. Input Data"
   ]
  },
  {
   "cell_type": "code",
   "execution_count": 14,
   "id": "8b3f635a",
   "metadata": {},
   "outputs": [
    {
     "data": {
      "text/html": [
       "<div>\n",
       "<style scoped>\n",
       "    .dataframe tbody tr th:only-of-type {\n",
       "        vertical-align: middle;\n",
       "    }\n",
       "\n",
       "    .dataframe tbody tr th {\n",
       "        vertical-align: top;\n",
       "    }\n",
       "\n",
       "    .dataframe thead th {\n",
       "        text-align: right;\n",
       "    }\n",
       "</style>\n",
       "<table border=\"1\" class=\"dataframe\">\n",
       "  <thead>\n",
       "    <tr style=\"text-align: right;\">\n",
       "      <th></th>\n",
       "      <th>Usia ibu</th>\n",
       "      <th>Tekanan darah sistol</th>\n",
       "      <th>Tekanan darah diastol</th>\n",
       "      <th>BB ibu</th>\n",
       "      <th>TB ibu</th>\n",
       "      <th>Hb ibu</th>\n",
       "      <th>Paritas</th>\n",
       "      <th>Lama gestasi</th>\n",
       "      <th>Nadi ibu</th>\n",
       "      <th>Respirasi</th>\n",
       "      <th>BBL</th>\n",
       "    </tr>\n",
       "  </thead>\n",
       "  <tbody>\n",
       "    <tr>\n",
       "      <th>0</th>\n",
       "      <td>26</td>\n",
       "      <td>140</td>\n",
       "      <td>100</td>\n",
       "      <td>62.0</td>\n",
       "      <td>149</td>\n",
       "      <td>16.3</td>\n",
       "      <td>1</td>\n",
       "      <td>39</td>\n",
       "      <td>80</td>\n",
       "      <td>20</td>\n",
       "      <td>0</td>\n",
       "    </tr>\n",
       "    <tr>\n",
       "      <th>1</th>\n",
       "      <td>24</td>\n",
       "      <td>100</td>\n",
       "      <td>70</td>\n",
       "      <td>82.0</td>\n",
       "      <td>154</td>\n",
       "      <td>10.9</td>\n",
       "      <td>1</td>\n",
       "      <td>24</td>\n",
       "      <td>120</td>\n",
       "      <td>20</td>\n",
       "      <td>0</td>\n",
       "    </tr>\n",
       "    <tr>\n",
       "      <th>2</th>\n",
       "      <td>34</td>\n",
       "      <td>150</td>\n",
       "      <td>100</td>\n",
       "      <td>71.9</td>\n",
       "      <td>148</td>\n",
       "      <td>12.1</td>\n",
       "      <td>3</td>\n",
       "      <td>41</td>\n",
       "      <td>80</td>\n",
       "      <td>20</td>\n",
       "      <td>0</td>\n",
       "    </tr>\n",
       "    <tr>\n",
       "      <th>3</th>\n",
       "      <td>35</td>\n",
       "      <td>160</td>\n",
       "      <td>110</td>\n",
       "      <td>76.0</td>\n",
       "      <td>150</td>\n",
       "      <td>12.5</td>\n",
       "      <td>2</td>\n",
       "      <td>35</td>\n",
       "      <td>132</td>\n",
       "      <td>32</td>\n",
       "      <td>1</td>\n",
       "    </tr>\n",
       "    <tr>\n",
       "      <th>4</th>\n",
       "      <td>27</td>\n",
       "      <td>160</td>\n",
       "      <td>100</td>\n",
       "      <td>71.0</td>\n",
       "      <td>151</td>\n",
       "      <td>10.2</td>\n",
       "      <td>1</td>\n",
       "      <td>40</td>\n",
       "      <td>80</td>\n",
       "      <td>20</td>\n",
       "      <td>0</td>\n",
       "    </tr>\n",
       "    <tr>\n",
       "      <th>...</th>\n",
       "      <td>...</td>\n",
       "      <td>...</td>\n",
       "      <td>...</td>\n",
       "      <td>...</td>\n",
       "      <td>...</td>\n",
       "      <td>...</td>\n",
       "      <td>...</td>\n",
       "      <td>...</td>\n",
       "      <td>...</td>\n",
       "      <td>...</td>\n",
       "      <td>...</td>\n",
       "    </tr>\n",
       "    <tr>\n",
       "      <th>95</th>\n",
       "      <td>23</td>\n",
       "      <td>120</td>\n",
       "      <td>80</td>\n",
       "      <td>55.0</td>\n",
       "      <td>142</td>\n",
       "      <td>10.6</td>\n",
       "      <td>1</td>\n",
       "      <td>39</td>\n",
       "      <td>80</td>\n",
       "      <td>20</td>\n",
       "      <td>0</td>\n",
       "    </tr>\n",
       "    <tr>\n",
       "      <th>96</th>\n",
       "      <td>19</td>\n",
       "      <td>120</td>\n",
       "      <td>80</td>\n",
       "      <td>70.0</td>\n",
       "      <td>150</td>\n",
       "      <td>11.0</td>\n",
       "      <td>1</td>\n",
       "      <td>38</td>\n",
       "      <td>88</td>\n",
       "      <td>20</td>\n",
       "      <td>0</td>\n",
       "    </tr>\n",
       "    <tr>\n",
       "      <th>97</th>\n",
       "      <td>27</td>\n",
       "      <td>130</td>\n",
       "      <td>80</td>\n",
       "      <td>65.0</td>\n",
       "      <td>161</td>\n",
       "      <td>11.4</td>\n",
       "      <td>2</td>\n",
       "      <td>40</td>\n",
       "      <td>80</td>\n",
       "      <td>20</td>\n",
       "      <td>1</td>\n",
       "    </tr>\n",
       "    <tr>\n",
       "      <th>98</th>\n",
       "      <td>33</td>\n",
       "      <td>120</td>\n",
       "      <td>80</td>\n",
       "      <td>79.0</td>\n",
       "      <td>156</td>\n",
       "      <td>16.2</td>\n",
       "      <td>3</td>\n",
       "      <td>39</td>\n",
       "      <td>80</td>\n",
       "      <td>20</td>\n",
       "      <td>0</td>\n",
       "    </tr>\n",
       "    <tr>\n",
       "      <th>99</th>\n",
       "      <td>25</td>\n",
       "      <td>100</td>\n",
       "      <td>60</td>\n",
       "      <td>67.0</td>\n",
       "      <td>155</td>\n",
       "      <td>10.7</td>\n",
       "      <td>1</td>\n",
       "      <td>33</td>\n",
       "      <td>88</td>\n",
       "      <td>20</td>\n",
       "      <td>0</td>\n",
       "    </tr>\n",
       "  </tbody>\n",
       "</table>\n",
       "<p>100 rows × 11 columns</p>\n",
       "</div>"
      ],
      "text/plain": [
       "    Usia ibu  Tekanan darah sistol  Tekanan darah diastol  BB ibu  TB ibu  \\\n",
       "0         26                   140                    100    62.0     149   \n",
       "1         24                   100                     70    82.0     154   \n",
       "2         34                   150                    100    71.9     148   \n",
       "3         35                   160                    110    76.0     150   \n",
       "4         27                   160                    100    71.0     151   \n",
       "..       ...                   ...                    ...     ...     ...   \n",
       "95        23                   120                     80    55.0     142   \n",
       "96        19                   120                     80    70.0     150   \n",
       "97        27                   130                     80    65.0     161   \n",
       "98        33                   120                     80    79.0     156   \n",
       "99        25                   100                     60    67.0     155   \n",
       "\n",
       "    Hb ibu  Paritas  Lama gestasi  Nadi ibu  Respirasi  BBL  \n",
       "0     16.3        1            39        80         20    0  \n",
       "1     10.9        1            24       120         20    0  \n",
       "2     12.1        3            41        80         20    0  \n",
       "3     12.5        2            35       132         32    1  \n",
       "4     10.2        1            40        80         20    0  \n",
       "..     ...      ...           ...       ...        ...  ...  \n",
       "95    10.6        1            39        80         20    0  \n",
       "96    11.0        1            38        88         20    0  \n",
       "97    11.4        2            40        80         20    1  \n",
       "98    16.2        3            39        80         20    0  \n",
       "99    10.7        1            33        88         20    0  \n",
       "\n",
       "[100 rows x 11 columns]"
      ]
     },
     "execution_count": 14,
     "metadata": {},
     "output_type": "execute_result"
    }
   ],
   "source": [
    "dataasli = pd.read_excel('Data BBL.xlsx', sheet_name='data asli')\n",
    "dataasli"
   ]
  },
  {
   "cell_type": "code",
   "execution_count": 15,
   "id": "4ee0a8ee",
   "metadata": {
    "scrolled": true
   },
   "outputs": [
    {
     "data": {
      "text/html": [
       "<div>\n",
       "<style scoped>\n",
       "    .dataframe tbody tr th:only-of-type {\n",
       "        vertical-align: middle;\n",
       "    }\n",
       "\n",
       "    .dataframe tbody tr th {\n",
       "        vertical-align: top;\n",
       "    }\n",
       "\n",
       "    .dataframe thead th {\n",
       "        text-align: right;\n",
       "    }\n",
       "</style>\n",
       "<table border=\"1\" class=\"dataframe\">\n",
       "  <thead>\n",
       "    <tr style=\"text-align: right;\">\n",
       "      <th></th>\n",
       "      <th>Usia ibu</th>\n",
       "      <th>Tekanan darah sistol</th>\n",
       "      <th>Tekanan darah diastol</th>\n",
       "      <th>BB ibu</th>\n",
       "      <th>TB ibu</th>\n",
       "      <th>Hb ibu</th>\n",
       "      <th>Paritas</th>\n",
       "      <th>Lama gestasi</th>\n",
       "      <th>Nadi ibu</th>\n",
       "      <th>Respirasi</th>\n",
       "      <th>BBL</th>\n",
       "    </tr>\n",
       "  </thead>\n",
       "  <tbody>\n",
       "    <tr>\n",
       "      <th>count</th>\n",
       "      <td>100.000000</td>\n",
       "      <td>100.000000</td>\n",
       "      <td>100.000000</td>\n",
       "      <td>100.000000</td>\n",
       "      <td>100.000000</td>\n",
       "      <td>100.000000</td>\n",
       "      <td>100.000000</td>\n",
       "      <td>100.000000</td>\n",
       "      <td>100.000000</td>\n",
       "      <td>100.000000</td>\n",
       "      <td>100.000000</td>\n",
       "    </tr>\n",
       "    <tr>\n",
       "      <th>mean</th>\n",
       "      <td>28.640000</td>\n",
       "      <td>126.920000</td>\n",
       "      <td>83.520000</td>\n",
       "      <td>65.018000</td>\n",
       "      <td>154.060000</td>\n",
       "      <td>11.728000</td>\n",
       "      <td>1.920000</td>\n",
       "      <td>37.310000</td>\n",
       "      <td>85.910000</td>\n",
       "      <td>21.100000</td>\n",
       "      <td>0.360000</td>\n",
       "    </tr>\n",
       "    <tr>\n",
       "      <th>std</th>\n",
       "      <td>6.374697</td>\n",
       "      <td>24.681683</td>\n",
       "      <td>15.194018</td>\n",
       "      <td>10.515514</td>\n",
       "      <td>6.884062</td>\n",
       "      <td>2.040602</td>\n",
       "      <td>1.051022</td>\n",
       "      <td>3.762374</td>\n",
       "      <td>8.712113</td>\n",
       "      <td>3.233349</td>\n",
       "      <td>0.482418</td>\n",
       "    </tr>\n",
       "    <tr>\n",
       "      <th>min</th>\n",
       "      <td>16.000000</td>\n",
       "      <td>89.000000</td>\n",
       "      <td>51.000000</td>\n",
       "      <td>40.000000</td>\n",
       "      <td>135.000000</td>\n",
       "      <td>6.700000</td>\n",
       "      <td>1.000000</td>\n",
       "      <td>20.000000</td>\n",
       "      <td>76.000000</td>\n",
       "      <td>18.000000</td>\n",
       "      <td>0.000000</td>\n",
       "    </tr>\n",
       "    <tr>\n",
       "      <th>25%</th>\n",
       "      <td>23.000000</td>\n",
       "      <td>110.000000</td>\n",
       "      <td>70.000000</td>\n",
       "      <td>58.000000</td>\n",
       "      <td>150.000000</td>\n",
       "      <td>10.675000</td>\n",
       "      <td>1.000000</td>\n",
       "      <td>36.000000</td>\n",
       "      <td>80.000000</td>\n",
       "      <td>20.000000</td>\n",
       "      <td>0.000000</td>\n",
       "    </tr>\n",
       "    <tr>\n",
       "      <th>50%</th>\n",
       "      <td>28.000000</td>\n",
       "      <td>120.000000</td>\n",
       "      <td>80.000000</td>\n",
       "      <td>65.900000</td>\n",
       "      <td>154.500000</td>\n",
       "      <td>11.500000</td>\n",
       "      <td>2.000000</td>\n",
       "      <td>38.000000</td>\n",
       "      <td>84.000000</td>\n",
       "      <td>20.000000</td>\n",
       "      <td>0.000000</td>\n",
       "    </tr>\n",
       "    <tr>\n",
       "      <th>75%</th>\n",
       "      <td>33.000000</td>\n",
       "      <td>140.000000</td>\n",
       "      <td>90.000000</td>\n",
       "      <td>71.000000</td>\n",
       "      <td>158.000000</td>\n",
       "      <td>12.925000</td>\n",
       "      <td>2.250000</td>\n",
       "      <td>40.000000</td>\n",
       "      <td>88.000000</td>\n",
       "      <td>22.000000</td>\n",
       "      <td>1.000000</td>\n",
       "    </tr>\n",
       "    <tr>\n",
       "      <th>max</th>\n",
       "      <td>43.000000</td>\n",
       "      <td>210.000000</td>\n",
       "      <td>160.000000</td>\n",
       "      <td>109.000000</td>\n",
       "      <td>173.000000</td>\n",
       "      <td>16.300000</td>\n",
       "      <td>5.000000</td>\n",
       "      <td>42.000000</td>\n",
       "      <td>132.000000</td>\n",
       "      <td>44.000000</td>\n",
       "      <td>1.000000</td>\n",
       "    </tr>\n",
       "  </tbody>\n",
       "</table>\n",
       "</div>"
      ],
      "text/plain": [
       "         Usia ibu  Tekanan darah sistol  Tekanan darah diastol      BB ibu  \\\n",
       "count  100.000000            100.000000             100.000000  100.000000   \n",
       "mean    28.640000            126.920000              83.520000   65.018000   \n",
       "std      6.374697             24.681683              15.194018   10.515514   \n",
       "min     16.000000             89.000000              51.000000   40.000000   \n",
       "25%     23.000000            110.000000              70.000000   58.000000   \n",
       "50%     28.000000            120.000000              80.000000   65.900000   \n",
       "75%     33.000000            140.000000              90.000000   71.000000   \n",
       "max     43.000000            210.000000             160.000000  109.000000   \n",
       "\n",
       "           TB ibu      Hb ibu     Paritas  Lama gestasi    Nadi ibu  \\\n",
       "count  100.000000  100.000000  100.000000    100.000000  100.000000   \n",
       "mean   154.060000   11.728000    1.920000     37.310000   85.910000   \n",
       "std      6.884062    2.040602    1.051022      3.762374    8.712113   \n",
       "min    135.000000    6.700000    1.000000     20.000000   76.000000   \n",
       "25%    150.000000   10.675000    1.000000     36.000000   80.000000   \n",
       "50%    154.500000   11.500000    2.000000     38.000000   84.000000   \n",
       "75%    158.000000   12.925000    2.250000     40.000000   88.000000   \n",
       "max    173.000000   16.300000    5.000000     42.000000  132.000000   \n",
       "\n",
       "        Respirasi         BBL  \n",
       "count  100.000000  100.000000  \n",
       "mean    21.100000    0.360000  \n",
       "std      3.233349    0.482418  \n",
       "min     18.000000    0.000000  \n",
       "25%     20.000000    0.000000  \n",
       "50%     20.000000    0.000000  \n",
       "75%     22.000000    1.000000  \n",
       "max     44.000000    1.000000  "
      ]
     },
     "execution_count": 15,
     "metadata": {},
     "output_type": "execute_result"
    }
   ],
   "source": [
    "dataasli.describe()"
   ]
  },
  {
   "attachments": {
    "image.png": {
     "image/png": "[encoded data removed]"
    }
   },
   "cell_type": "markdown",
   "id": "a10a02ed",
   "metadata": {},
   "source": [
    "### Variabel Penelitian #\n",
    "![image.png](attachment:image.png)\n",
    "\n",
    "Pada project ini, variabel Nadi ibu dan respirasi tidak digunakan karena variabel tersebut tidak sesuai dengan indikator dari faktor penyebab BBLR. Maka, dilakukan data cleaning untuk menghapus variabel tersebut. "
   ]
  },
  {
   "cell_type": "markdown",
   "id": "b60357f6",
   "metadata": {},
   "source": [
    "Setelah dilakukan data cleaning, maka selanjutnya dilakukan transformasi data dengan cara dinormalisasi. "
   ]
  },
  {
   "cell_type": "markdown",
   "id": "a7994d2e",
   "metadata": {},
   "source": [
    "## 4. Normalisasi Data"
   ]
  },
  {
   "cell_type": "code",
   "execution_count": 16,
   "id": "c6e8ed0b",
   "metadata": {},
   "outputs": [
    {
     "data": {
      "text/html": [
       "<div>\n",
       "<style scoped>\n",
       "    .dataframe tbody tr th:only-of-type {\n",
       "        vertical-align: middle;\n",
       "    }\n",
       "\n",
       "    .dataframe tbody tr th {\n",
       "        vertical-align: top;\n",
       "    }\n",
       "\n",
       "    .dataframe thead th {\n",
       "        text-align: right;\n",
       "    }\n",
       "</style>\n",
       "<table border=\"1\" class=\"dataframe\">\n",
       "  <thead>\n",
       "    <tr style=\"text-align: right;\">\n",
       "      <th></th>\n",
       "      <th>BBL</th>\n",
       "      <th>Usia ibu</th>\n",
       "      <th>Tekanan darah sistol</th>\n",
       "      <th>Tekanan darah diastol</th>\n",
       "      <th>BB ibu</th>\n",
       "      <th>TB ibu</th>\n",
       "      <th>Hb ibu</th>\n",
       "      <th>Paritas</th>\n",
       "      <th>Lama gestasi</th>\n",
       "    </tr>\n",
       "  </thead>\n",
       "  <tbody>\n",
       "    <tr>\n",
       "      <th>0</th>\n",
       "      <td>1</td>\n",
       "      <td>-0.41414</td>\n",
       "      <td>0.52995</td>\n",
       "      <td>1.08464</td>\n",
       "      <td>-0.28700</td>\n",
       "      <td>-0.73503</td>\n",
       "      <td>2.24052</td>\n",
       "      <td>-0.87534</td>\n",
       "      <td>0.44918</td>\n",
       "    </tr>\n",
       "    <tr>\n",
       "      <th>1</th>\n",
       "      <td>1</td>\n",
       "      <td>-0.72788</td>\n",
       "      <td>-1.09069</td>\n",
       "      <td>-0.88982</td>\n",
       "      <td>1.61495</td>\n",
       "      <td>-0.00872</td>\n",
       "      <td>-0.40576</td>\n",
       "      <td>-0.87534</td>\n",
       "      <td>-3.53766</td>\n",
       "    </tr>\n",
       "    <tr>\n",
       "      <th>2</th>\n",
       "      <td>1</td>\n",
       "      <td>0.84082</td>\n",
       "      <td>0.93511</td>\n",
       "      <td>1.08464</td>\n",
       "      <td>0.65446</td>\n",
       "      <td>-0.88029</td>\n",
       "      <td>0.18230</td>\n",
       "      <td>1.02757</td>\n",
       "      <td>0.98076</td>\n",
       "    </tr>\n",
       "    <tr>\n",
       "      <th>3</th>\n",
       "      <td>2</td>\n",
       "      <td>0.99769</td>\n",
       "      <td>1.34027</td>\n",
       "      <td>1.74279</td>\n",
       "      <td>1.04436</td>\n",
       "      <td>-0.58977</td>\n",
       "      <td>0.37832</td>\n",
       "      <td>0.07612</td>\n",
       "      <td>-0.61397</td>\n",
       "    </tr>\n",
       "    <tr>\n",
       "      <th>4</th>\n",
       "      <td>1</td>\n",
       "      <td>-0.25727</td>\n",
       "      <td>1.34027</td>\n",
       "      <td>1.08464</td>\n",
       "      <td>0.56887</td>\n",
       "      <td>-0.44451</td>\n",
       "      <td>-0.74880</td>\n",
       "      <td>-0.87534</td>\n",
       "      <td>0.71497</td>\n",
       "    </tr>\n",
       "    <tr>\n",
       "      <th>...</th>\n",
       "      <td>...</td>\n",
       "      <td>...</td>\n",
       "      <td>...</td>\n",
       "      <td>...</td>\n",
       "      <td>...</td>\n",
       "      <td>...</td>\n",
       "      <td>...</td>\n",
       "      <td>...</td>\n",
       "      <td>...</td>\n",
       "    </tr>\n",
       "    <tr>\n",
       "      <th>95</th>\n",
       "      <td>1</td>\n",
       "      <td>-0.88475</td>\n",
       "      <td>-0.28037</td>\n",
       "      <td>-0.23167</td>\n",
       "      <td>-0.95269</td>\n",
       "      <td>-1.75187</td>\n",
       "      <td>-0.55278</td>\n",
       "      <td>-0.87534</td>\n",
       "      <td>0.44918</td>\n",
       "    </tr>\n",
       "    <tr>\n",
       "      <th>96</th>\n",
       "      <td>1</td>\n",
       "      <td>-1.51223</td>\n",
       "      <td>-0.28037</td>\n",
       "      <td>-0.23167</td>\n",
       "      <td>0.47378</td>\n",
       "      <td>-0.58977</td>\n",
       "      <td>-0.35676</td>\n",
       "      <td>-0.87534</td>\n",
       "      <td>0.18339</td>\n",
       "    </tr>\n",
       "    <tr>\n",
       "      <th>97</th>\n",
       "      <td>2</td>\n",
       "      <td>-0.25727</td>\n",
       "      <td>0.12479</td>\n",
       "      <td>-0.23167</td>\n",
       "      <td>-0.00171</td>\n",
       "      <td>1.00813</td>\n",
       "      <td>-0.16074</td>\n",
       "      <td>0.07612</td>\n",
       "      <td>0.71497</td>\n",
       "    </tr>\n",
       "    <tr>\n",
       "      <th>98</th>\n",
       "      <td>1</td>\n",
       "      <td>0.68395</td>\n",
       "      <td>-0.28037</td>\n",
       "      <td>-0.23167</td>\n",
       "      <td>1.32965</td>\n",
       "      <td>0.28181</td>\n",
       "      <td>2.19151</td>\n",
       "      <td>1.02757</td>\n",
       "      <td>0.44918</td>\n",
       "    </tr>\n",
       "    <tr>\n",
       "      <th>99</th>\n",
       "      <td>1</td>\n",
       "      <td>-0.57101</td>\n",
       "      <td>-1.09069</td>\n",
       "      <td>-1.54798</td>\n",
       "      <td>0.18848</td>\n",
       "      <td>0.13655</td>\n",
       "      <td>-0.50377</td>\n",
       "      <td>-0.87534</td>\n",
       "      <td>-1.14555</td>\n",
       "    </tr>\n",
       "  </tbody>\n",
       "</table>\n",
       "<p>100 rows × 9 columns</p>\n",
       "</div>"
      ],
      "text/plain": [
       "    BBL  Usia ibu  Tekanan darah sistol  Tekanan darah diastol   BB ibu  \\\n",
       "0     1  -0.41414               0.52995                1.08464 -0.28700   \n",
       "1     1  -0.72788              -1.09069               -0.88982  1.61495   \n",
       "2     1   0.84082               0.93511                1.08464  0.65446   \n",
       "3     2   0.99769               1.34027                1.74279  1.04436   \n",
       "4     1  -0.25727               1.34027                1.08464  0.56887   \n",
       "..  ...       ...                   ...                    ...      ...   \n",
       "95    1  -0.88475              -0.28037               -0.23167 -0.95269   \n",
       "96    1  -1.51223              -0.28037               -0.23167  0.47378   \n",
       "97    2  -0.25727               0.12479               -0.23167 -0.00171   \n",
       "98    1   0.68395              -0.28037               -0.23167  1.32965   \n",
       "99    1  -0.57101              -1.09069               -1.54798  0.18848   \n",
       "\n",
       "     TB ibu   Hb ibu  Paritas  Lama gestasi  \n",
       "0  -0.73503  2.24052 -0.87534       0.44918  \n",
       "1  -0.00872 -0.40576 -0.87534      -3.53766  \n",
       "2  -0.88029  0.18230  1.02757       0.98076  \n",
       "3  -0.58977  0.37832  0.07612      -0.61397  \n",
       "4  -0.44451 -0.74880 -0.87534       0.71497  \n",
       "..      ...      ...      ...           ...  \n",
       "95 -1.75187 -0.55278 -0.87534       0.44918  \n",
       "96 -0.58977 -0.35676 -0.87534       0.18339  \n",
       "97  1.00813 -0.16074  0.07612       0.71497  \n",
       "98  0.28181  2.19151  1.02757       0.44918  \n",
       "99  0.13655 -0.50377 -0.87534      -1.14555  \n",
       "\n",
       "[100 rows x 9 columns]"
      ]
     },
     "execution_count": 16,
     "metadata": {},
     "output_type": "execute_result"
    }
   ],
   "source": [
    "df = pd.read_excel('Data BBL.xlsx', sheet_name='Sheet4')\n",
    "df"
   ]
  },
  {
   "cell_type": "markdown",
   "id": "a231c91e",
   "metadata": {},
   "source": [
    "## 5. Split atau Membagi data \n",
    "\n",
    "Tahap selanjutnya membagi data dengan menggunakan train_test_split, data dibagi menjadi dua bagian yaitu data traning dan data testing. Model klasifikasi dihasilkan dari data training dan kinerjanya dievaluasi dengan data testing. Metode ini mengambil data training secara acak dari data yang tersedia dan menyisihkan sisanya untuk digunakan sebagai data testing. \n",
    "Pada project kal ini kami menggunakan proporsi 90:10 yaitu 90% untuk data training dan 10% untuk data testing karena menghasilkan nilai akurasi tertinggi. \n",
    "\n",
    "Karena pembagian data dilakukan secara random, maka dilakukan beberapa kali running sampai mendapatkan nilai akurasi tertinggi. Dilakukan sebanyak 100 kali running untuk setiap proporsi. "
   ]
  },
  {
   "cell_type": "code",
   "execution_count": 17,
   "id": "6e5dc619",
   "metadata": {
    "scrolled": false
   },
   "outputs": [],
   "source": [
    "x = df[['Usia ibu','Tekanan darah sistol','Tekanan darah diastol','BB ibu','TB ibu','Hb ibu','Lama gestasi','Paritas']]\n",
    "y = df['BBL']\n",
    "#X_train, X_test, y_train, y_test = train_test_split(x, y, test_size=0.1)"
   ]
  },
  {
   "cell_type": "markdown",
   "id": "596ecdb2",
   "metadata": {},
   "source": [
    "Apabila sudah mendapatkan pembagian data dengan akurasi tertinggi, maka pembagian tersebut akan disimpan ke dalam excel agar data yang ada tidak ter-random lagi. Masing-masing X dan Y dipisah dalam file excel yang berbeda. "
   ]
  },
  {
   "cell_type": "code",
   "execution_count": 18,
   "id": "54106507",
   "metadata": {
    "scrolled": false
   },
   "outputs": [],
   "source": [
    "#X_test = pd.DataFrame(X_test)\n",
    "#X_test.to_excel(\"Test set.xlsx\")\n",
    "#X_train = pd.DataFrame(X_train)\n",
    "#X_train.to_excel(\"Train set.xlsx\")\n",
    "#y_test = pd.DataFrame(y_test)\n",
    "#y_test.to_excel(\"Test set y.xlsx\")\n",
    "#y_train = pd.DataFrame(y_train)\n",
    "#y_train.to_excel(\"Train set y.xlsx\")"
   ]
  },
  {
   "cell_type": "markdown",
   "id": "e1ad02cc",
   "metadata": {},
   "source": [
    "Karena pada tahap sebelumnya hasil pembagian data dengan akurasi tertinggi telah disimpan dalam bentuk excel, maka untuk selanjutnya data yang diguakan adalah data tersebut agar nilai akurasi tidak berubah-ubah. "
   ]
  },
  {
   "cell_type": "code",
   "execution_count": 33,
   "id": "3b3357ac",
   "metadata": {},
   "outputs": [],
   "source": [
    "X_train = pd.read_excel('Train set.xlsx')\n",
    "X_test =  pd.read_excel('Test set.xlsx')\n",
    "y_test = pd.read_excel('Test set y.xlsx')\n",
    "y_train = pd.read_excel('Train set y.xlsx')"
   ]
  },
  {
   "cell_type": "markdown",
   "id": "9276b9c3",
   "metadata": {},
   "source": [
    "## 6. Menjalankan Algoritma PNN \n",
    "\n",
    "algorithms.PNN digunakan untuk menjalankan metode PNN\n",
    "predict digunakan untuk menampilkan hasil prediksi dari data test sedangkan predict_proba digunakan untuk menampilkan nilai probabillitas untuk setiap kelas. \n",
    "metriks akurasi digunakan untuk menghitung akurasi dari algoritma PNN yang telah dijalankan. "
   ]
  },
  {
   "cell_type": "code",
   "execution_count": 34,
   "id": "03fff922",
   "metadata": {
    "scrolled": true
   },
   "outputs": [
    {
     "data": {
      "text/plain": [
       "0.8"
      ]
     },
     "execution_count": 34,
     "metadata": {},
     "output_type": "execute_result"
    }
   ],
   "source": [
    "pnn = algorithms.PNN()\n",
    "pnn.train(X_train, y_train)\n",
    "hasil = pnn.predict(X_test)\n",
    "hasil_prob = pnn.predict_proba(X_test)\n",
    "metrics.accuracy_score(y_test,hasil)"
   ]
  },
  {
   "attachments": {
    "image-2.png": {
     "image/png": "[encoded data removed]"
    }
   },
   "cell_type": "markdown",
   "id": "6a323e93",
   "metadata": {},
   "source": [
    "## 7. Membuat GUI untuk Algoritma PNN\n",
    "![image-2.png](attachment:image-2.png)"
   ]
  },
  {
   "cell_type": "markdown",
   "id": "4bda9a57",
   "metadata": {},
   "source": [
    "### Step 1: Install package Tkinter dan import modul di dalamnya"
   ]
  },
  {
   "cell_type": "markdown",
   "id": "72bccf92",
   "metadata": {},
   "source": [
    "Tkinter (Tk Interface) adalah suatu pustaka GUI widget standar pembuatan Interface untuk Tk GUI Toolkit."
   ]
  },
  {
   "cell_type": "code",
   "execution_count": 1,
   "id": "b8c5fd13",
   "metadata": {},
   "outputs": [
    {
     "name": "stdout",
     "output_type": "stream",
     "text": [
      "Requirement already satisfied: tk in c:\\users\\dik\\anaconda3\\lib\\site-packages (0.1.0)\n",
      "Note: you may need to restart the kernel to use updated packages.\n"
     ]
    }
   ],
   "source": [
    "pip install tk"
   ]
  },
  {
   "cell_type": "code",
   "execution_count": 2,
   "id": "626e519b",
   "metadata": {},
   "outputs": [],
   "source": [
    "from tkinter import*"
   ]
  },
  {
   "cell_type": "markdown",
   "id": "18101104",
   "metadata": {},
   "source": [
    "### Step 2: Membuat root window"
   ]
  },
  {
   "cell_type": "code",
   "execution_count": 25,
   "id": "56e7c9df",
   "metadata": {},
   "outputs": [
    {
     "data": {
      "text/plain": [
       "''"
      ]
     },
     "execution_count": 25,
     "metadata": {},
     "output_type": "execute_result"
    }
   ],
   "source": [
    "win = Tk()\n",
    "win.geometry('500x500')\n",
    "win.title('Deteksi Berat Badan Lahir Bayi')"
   ]
  },
  {
   "cell_type": "markdown",
   "id": "27e2d3ee",
   "metadata": {},
   "source": [
    "### Step 3 : Mendefinisikan fungsi PNN() dan reset_entry()"
   ]
  },
  {
   "cell_type": "code",
   "execution_count": 26,
   "id": "42d01f76",
   "metadata": {},
   "outputs": [],
   "source": [
    "def PNN():\n",
    "    X_test = [[x1,x2,x3,x4,x5,x6,x7,x8]]\n",
    "    X_train = pd.read_excel('Train set x.xlsx')\n",
    "    y_train = pd.read_excel('Train set y.xlsx')\n",
    "    pnn = algorithms.PNN()\n",
    "    pnn.train(X_train, y_train)\n",
    "    hasil = pnn.predict(X_test)\n",
    "    if hasil == 1:\n",
    "        result = Label(result_frame, fg = 'blue', text = \"Berat Badan Lahir Normal\", font = \"Arial 11\").grid(row=3, column=0, padx=1, pady=1)\n",
    "    else:\n",
    "        result = Label(result_frame, fg = 'red', text = \"Berat Badan Lahir Rendah\", font = \"Arial 11\").grid(row=3, column=0, padx=1, pady=1)\n",
    "        \n",
    "# membuat fungsi reset_entry()\n",
    "def reset_entry():\n",
    "    ent_x1.delete(0,END)\n",
    "    ent_x2.delete(0,END)\n",
    "    ent_x3.delete(0,END)\n",
    "    ent_x4.delete(0,END)\n",
    "    ent_x5.delete(0,END)\n",
    "    ent_x6.delete(0,END)\n",
    "    ent_x7.delete(0,END)\n",
    "    ent_x8.delete(0,END)\n",
    "    result.delete(0,END)"
   ]
  },
  {
   "cell_type": "markdown",
   "id": "dfb51c67",
   "metadata": {},
   "source": [
    "### Step 3: Menambahkan widgets ke root window"
   ]
  },
  {
   "cell_type": "code",
   "execution_count": 27,
   "id": "7964745c",
   "metadata": {},
   "outputs": [],
   "source": [
    "# membuat label judul dan keterangan\n",
    "label1 = Label(win, fg = 'dark blue', text = \"APLIKASI PNN UNTUK KLASIFIKASI RISIKO BBLR\", font = \"Arial 15 bold\").pack()\n",
    "label2 = Label(win, fg = 'black', text = \"INPUT DATA REKAM MEDIS IBU\", font = \"Arial 11\").pack()"
   ]
  },
  {
   "cell_type": "code",
   "execution_count": 28,
   "id": "bb5d64fb",
   "metadata": {},
   "outputs": [],
   "source": [
    "# membuat frame untuk input data rekam medis ibu\n",
    "data_frame = Frame(win, width = 500, height = 400, bg = 'grey')\n",
    "data_frame.pack(side = TOP)\n",
    " \n",
    "# set IntVar\n",
    "x1 = IntVar(win)\n",
    "x2 = IntVar(win)\n",
    "x3 = IntVar(win)\n",
    "x4 = IntVar(win)\n",
    "x5 = IntVar(win)\n",
    "x6 = IntVar(win)\n",
    "x7 = IntVar(win)\n",
    "x8 = IntVar(win)\n",
    "\n",
    "# membuat baris 1\n",
    "x1 = Label(data_frame, fg = 'black', text = \"Usia\", font = \"Arial 9\", width = 20).grid(row=4, column=0, padx = 1, pady = 1)\n",
    "ent_x1 = Entry(data_frame, width = 20, textvariable=x1)\n",
    "ent_x1.grid(row=4, column=1, padx = 1, pady = 1)\n",
    "unit_x1 = Label(data_frame, fg = 'black', text = \"tahun\", font = \"Arial 9\", width = 20).grid(row=4, column=2, padx = 1, pady = 1)\n",
    "\n",
    "# membuat baris 2\n",
    "x2 = Label(data_frame, fg = 'black', text = \"Tekanan Darah Sistol\", font = \"Arial 9\", width = 20).grid(row=5, column=0, padx = 1, pady = 1)\n",
    "ent_x2 = Entry(data_frame, width = 20, textvariable=x2)\n",
    "ent_x2.grid(row=5, column=1, padx = 1, pady = 1)\n",
    "unit_x2 = Label(data_frame, fg = 'black', text = \"mmHg\", font = \"Arial 9\", width = 20).grid(row=5, column=2, padx = 1, pady = 1)\n",
    "\n",
    "# membuat baris 3\n",
    "x3 = Label(data_frame, fg = 'black', text = \"Tekanan Darah Diastol\", font = \"Arial 9\", width = 20).grid(row=6, column=0, padx = 1, pady = 1)\n",
    "ent_x3 = Entry(data_frame, width = 20, textvariable=x3)\n",
    "ent_x3.grid(row=6, column=1, padx = 1, pady = 1)\n",
    "unit_x3 = Label(data_frame, fg = 'black', text = \"mmHg\", font = \"Arial 9\", width = 20).grid(row=6, column=2, padx = 1, pady = 1)\n",
    "\n",
    "# membuat baris 4\n",
    "x4 = Label(data_frame, fg = 'black', text = \"Berat Badan\", font = \"Arial 9\", width = 20).grid(row=7, column=0, padx = 1, pady = 1)\n",
    "ent_x4 = Entry(data_frame, width = 20, textvariable=x4)\n",
    "ent_x4.grid(row=7, column=1, padx = 1, pady = 1)\n",
    "unit_x4 = Label(data_frame, fg = 'black', text = \"kg\", font = \"Arial 9\", width = 20).grid(row=7, column=2, padx = 1, pady = 1)\n",
    "\n",
    "# membuat baris 5\n",
    "x5 = Label(data_frame, fg = 'black', text = \"Tinggi Badan\", font = \"Arial 9\", width = 20).grid(row=8, column=0, padx = 1, pady = 1)\n",
    "ent_x5 = Entry(data_frame, width = 20, textvariable=x5)\n",
    "ent_x5.grid(row=8, column=1, padx = 1, pady = 1)\n",
    "unit_x5 = Label(data_frame, fg = 'black', text = \"cm\", font = \"Arial 9\", width = 20).grid(row=8, column=2, padx = 1, pady = 1)\n",
    "\n",
    "# membuat baris 6\n",
    "x6 = Label(data_frame, fg = 'black', text = \"Hemoglobin\", font = \"Arial 9\", width = 20).grid(row=9, column=0, padx = 1, pady = 1)\n",
    "ent_x6 = Entry(data_frame, width = 20, textvariable=x6)\n",
    "ent_x6.grid(row=9, column=1, padx = 1, pady = 1)\n",
    "unit_x6 = Label(data_frame, fg = 'black', text = \"g/dL\", font = \"Arial 9\", width = 20).grid(row=9, column=2, padx = 1, pady = 1)\n",
    "\n",
    "# membuat baris 7\n",
    "x7 = Label(data_frame, fg = 'black', text = \"Paritas\", font = \"Arial 9\", width = 20).grid(row=10, column=0, padx = 1, pady = 1)\n",
    "ent_x7 = Entry(data_frame, width = 20, textvariable=x7)\n",
    "ent_x7.grid(row=10, column=1, padx = 1, pady = 1)\n",
    "unit_x7 = Label(data_frame, fg = 'black', text = \"anak\", font = \"Arial 9\", width = 20).grid(row=10, column=2, padx = 1, pady = 1)\n",
    "\n",
    "\n",
    "# membuat baris 8\n",
    "x8 = Label(data_frame, fg = 'black', text = \"Lama Gestasi\", font = \"Arial 9\", width = 20).grid(row=11, column=0, padx = 1, pady = 1)\n",
    "ent_x8 = Entry(data_frame, width = 20, textvariable=x8)\n",
    "ent_x8.grid(row=11, column=1, padx = 1, pady = 1)\n",
    "unit_x8 = Label(data_frame, fg = 'black', text = \"minggu\", font = \"Arial 9\", width = 20).grid(row=11, column=2, padx = 1, pady = 1)"
   ]
  },
  {
   "cell_type": "code",
   "execution_count": 29,
   "id": "cd8d5ceb",
   "metadata": {},
   "outputs": [],
   "source": [
    "# membuat frame untuk button hasil klasifikasi\n",
    "result_frame = Frame(win, width = 500, height = 100)\n",
    "result_frame.pack(side = TOP)\n",
    "\n",
    "button1 = Button (result_frame, fg = 'black', text = 'Cek Status', font = 'Arial 10', width = 20, command = PNN).grid(row=0, column=0, padx=1, pady=1)"
   ]
  },
  {
   "cell_type": "code",
   "execution_count": 30,
   "id": "bf15753c",
   "metadata": {},
   "outputs": [],
   "source": [
    "# membuat tombol reset\n",
    "button2 = Button (win, fg = 'black', text = 'Reset', font = 'Arial 9', width = 10, command = reset_entry).pack(side = BOTTOM)"
   ]
  },
  {
   "cell_type": "code",
   "execution_count": 31,
   "id": "c2e30566",
   "metadata": {},
   "outputs": [
    {
     "name": "stderr",
     "output_type": "stream",
     "text": [
      "Exception in Tkinter callback\n",
      "Traceback (most recent call last):\n",
      "  File \"C:\\Users\\dik\\anaconda3\\lib\\tkinter\\__init__.py\", line 1892, in __call__\n",
      "    return self.func(*args)\n",
      "  File \"<ipython-input-26-9cb6ff6e0007>\", line 23, in reset_entry\n",
      "    result.delete(0,END)\n",
      "NameError: name 'result' is not defined\n"
     ]
    }
   ],
   "source": [
    "win.mainloop()"
   ]
  },
  {
   "cell_type": "code",
   "execution_count": null,
   "id": "005ef020",
   "metadata": {},
   "outputs": [],
   "source": []
  }
 ],
 "metadata": {
  "kernelspec": {
   "display_name": "Python 3",
   "language": "python",
   "name": "python3"
  },
  "language_info": {
   "codemirror_mode": {
    "name": "ipython",
    "version": 3
   },
   "file_extension": ".py",
   "mimetype": "text/x-python",
   "name": "python",
   "nbconvert_exporter": "python",
   "pygments_lexer": "ipython3",
   "version": "3.8.8"
  }
 },
 "nbformat": 4,
 "nbformat_minor": 5
}
